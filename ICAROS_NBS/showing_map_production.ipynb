{
 "cells": [
  {
   "cell_type": "code",
   "execution_count": null,
   "metadata": {},
   "outputs": [],
   "source": [
    "! cd $HOME/ICAROS; git remote add bpalmeiro https://github.com/bpalmeiro/ICAROS.git; git fetch bpalmeiro; git checkout bpalmeiro/automatic_script; cd -;"
   ]
  },
  {
   "cell_type": "code",
   "execution_count": null,
   "metadata": {},
   "outputs": [],
   "source": [
    "import os\n",
    "import copy\n",
    "from pytest        import mark\n",
    "from numpy.testing import assert_raises\n",
    "\n",
    "from invisible_cities.core.configure       import configure\n",
    "from invisible_cities.reco.corrections_new import read_maps\n",
    "from invisible_cities.reco.corrections_new import ASectorMap\n",
    "\n",
    "from krcal.map_builder.map_builder_functions import automatic_test\n",
    "from krcal.map_builder.checking_functions    import AbortingMapCreation\n",
    "from krcal.core       .xy_maps_functions     import draw_xy_maps"
   ]
  },
  {
   "cell_type": "code",
   "execution_count": null,
   "metadata": {},
   "outputs": [],
   "source": [
    "import logging\n",
    "import warnings\n",
    "warnings.filterwarnings(\"ignore\")\n",
    "logging.disable(logging.DEBUG)\n",
    "this_script_logger = logging.getLogger(__name__)\n",
    "this_script_logger.setLevel(logging.INFO)"
   ]
  },
  {
   "cell_type": "code",
   "execution_count": null,
   "metadata": {},
   "outputs": [],
   "source": [
    "! wget https://www.dropbox.com/s/025si49skkv6n49/kdst_7517_LB_0-100_TestMapScript.h5\n",
    "! wget https://www.dropbox.com/s/3ky8js2yekh4sqw/kr_emap_xy_100_100_r_6573_time.h5\n",
    "! wget https://www.dropbox.com/s/5n9gj9wjcz70na7/z_dst_LB_mean_ref.h5"
   ]
  },
  {
   "cell_type": "code",
   "execution_count": null,
   "metadata": {},
   "outputs": [],
   "source": [
    "folder_test_dst = './'\n",
    "test_dst_file   = 'kdst_7517_LB_0-100_TestMapScript.h5'\n",
    "output_maps_tmdir = './'\n",
    "map_file_out   = os.path.join(output_maps_tmdir, 'test_out_map.h5')\n",
    "histo_file_out = os.path.join(output_maps_tmdir, 'test_out_histo.h5')"
   ]
  },
  {
   "cell_type": "code",
   "execution_count": null,
   "metadata": {},
   "outputs": [],
   "source": [
    "default_n_bins = 10"
   ]
  },
  {
   "cell_type": "code",
   "execution_count": null,
   "metadata": {},
   "outputs": [],
   "source": [
    "config = configure('maps $ICARO/krcal/map_builder/config_LBphys.conf'.split())\n",
    "print(folder_test_dst + test_dst_file)\n",
    "config.update(dict(folder       = folder_test_dst   ,\n",
    "                   file_in      = test_dst_file,\n",
    "                   file_out_map = map_file_out,\n",
    "                   file_out_hists = histo_file_out,\n",
    "                   default_n_bins = default_n_bins,\n",
    "                   file_bootstrap_map = 'kr_emap_xy_100_100_r_6573_time.h5',\n",
    "                  ref_Z_histogram    = dict(\n",
    "                    ref_histo_file = 'z_dst_LB_mean_ref.h5',\n",
    "                    key_Z_histo    = 'histo_Z_dst')                                                  ))\n",
    "automatic_test(config.as_namespace)"
   ]
  },
  {
   "cell_type": "code",
   "execution_count": null,
   "metadata": {},
   "outputs": [],
   "source": [
    "out_map = read_maps(map_file_out)\n",
    "draw_xy_maps(out_map,\n",
    "             e0lims  = (7000, 14000),\n",
    "             ltlims  = (4500, 12000),\n",
    "             eulims  = (0.0,  0.5),\n",
    "             lulims  = (0, 10),\n",
    "             figsize=(14,10))"
   ]
  }
 ],
 "metadata": {
  "kernelspec": {
   "display_name": "Python 3",
   "language": "python",
   "name": "python3"
  },
  "language_info": {
   "codemirror_mode": {
    "name": "ipython",
    "version": 3
   },
   "file_extension": ".py",
   "mimetype": "text/x-python",
   "name": "python",
   "nbconvert_exporter": "python",
   "pygments_lexer": "ipython3",
   "version": "3.7.2"
  }
 },
 "nbformat": 4,
 "nbformat_minor": 2
}
